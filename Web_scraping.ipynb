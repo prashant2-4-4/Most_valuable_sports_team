{
 "cells": [
  {
   "cell_type": "code",
   "execution_count": 1,
   "id": "6d40562e",
   "metadata": {},
   "outputs": [],
   "source": [
    "from selenium import webdriver\n",
    "import os\n",
    "import time\n",
    "from selenium.webdriver.support.ui import Select\n",
    "from selenium.webdriver.common.by import By"
   ]
  },
  {
   "cell_type": "code",
   "execution_count": 2,
   "id": "89a0ca19",
   "metadata": {},
   "outputs": [
    {
     "name": "stderr",
     "output_type": "stream",
     "text": [
      "\n",
      "\n",
      "====== WebDriver manager ======\n",
      "Current google-chrome version is 100.0.4896\n",
      "Get LATEST chromedriver version for 100.0.4896 google-chrome\n",
      "There is no [win32] chromedriver for browser  in cache\n",
      "Trying to download new driver from https://chromedriver.storage.googleapis.com/100.0.4896.60/chromedriver_win32.zip\n",
      "Driver has been saved in cache [C:\\Users\\prashant pathak\\.wdm\\drivers\\chromedriver\\win32\\100.0.4896.60]\n"
     ]
    }
   ],
   "source": [
    "from selenium import webdriver\n",
    "from webdriver_manager.chrome import ChromeDriverManager\n",
    "\n",
    "driver = webdriver.Chrome(ChromeDriverManager().install())"
   ]
  },
  {
   "cell_type": "code",
   "execution_count": 41,
   "id": "bd28ed00",
   "metadata": {},
   "outputs": [],
   "source": [
    "url = 'https://www.forbes.com/sites/mikeozanian/2021/05/07/worlds-most-valuable-sports-teams-2021/?sh=626f5f1a3e9e'\n",
    "driver.get(url)\n",
    "driver.implicitly_wait(5)\n",
    "all_team_name = driver.find_elements(By.XPATH ,  \"//h2[contains(@class ,'subhead-embed color-accent bg-base font-accent font-size text-align')]\")[1:]"
   ]
  },
  {
   "cell_type": "code",
   "execution_count": 42,
   "id": "a46670f2",
   "metadata": {},
   "outputs": [
    {
     "name": "stdout",
     "output_type": "stream",
     "text": [
      " Dallas Cowboys (NFL)\n",
      " New York Yankees (MLB)\n",
      " New York Knicks (NBA)\n",
      " Barcelona (Soccer)\n",
      " Real Madrid (Soccer)\n",
      " Golden State Warriors (NBA)\n",
      " Los Angeles Lakers (NBA)\n",
      " New England Patriots (NFL)\n",
      " New York Giants (NFL)\n",
      " Bayern Munich (Soccer)\n",
      " Manchester United (Soccer)\n",
      " Liverpool (Soccer)\n",
      " Los Angeles Rams (NFL)\n",
      " Manchester City (Soccer)\n",
      " San Francisco 49ers (NFL)\n",
      " Los Angeles Dodgers (MLB)\n",
      " New York Jets (NFL)\n",
      " Chicago Bears (NFL)\n",
      " Washington Football Team (NFL)\n",
      " Boston Red Sox (MLB)\n",
      " Philadelphia Eagles (NFL)\n",
      " Chicago Cubs (MLB)\n",
      " Houston Texans (NFL)\n",
      " Chicago Bulls (NBA)\n",
      " Denver Broncos (NFL)\n",
      " Boston Celtics (NBA)\n",
      " Chelsea (Soccer)\n",
      " San Francisco Giants (MLB)\n",
      " Las Vegas Raiders (NFL)\n",
      " Seattle Seahawks (NFL)\n",
      " Green Bay Packers (NFL)\n",
      " Pittsburgh Steelers (NFL)\n",
      " Baltimore Ravens (NFL)\n",
      " Minnesota Vikings (NFL)\n",
      " Miami Dolphins (NFL)\n",
      " Atlanta Falcons (NFL)\n",
      " Indianapolis Colts (NFL)\n",
      " Arsenal (Soccer)\n",
      " Los Angeles Clippers (NBA)\n",
      " Brooklyn Nets (NBA)\n",
      " Los Angeles Chargers (NFL)\n",
      " Carolina Panthers (NFL)\n",
      " Kansas City Chiefs (NFL)\n",
      " Houston Rockets (NBA)\n",
      " Paris Saint-Germain (Soccer)\n",
      " New Orleans Saints (NFL)\n",
      " Jacksonville Jaguars (NFL)\n",
      " New York Mets (MLB)\n",
      " Dallas Mavericks (NBA)\n",
      " Cleveland Browns (NFL)\n"
     ]
    }
   ],
   "source": [
    "team = []\n",
    "for t in all_team_name:\n",
    "    print(t.text.split('.')[1])\n",
    "    team.append(t.text.split('.')[1])"
   ]
  },
  {
   "cell_type": "code",
   "execution_count": 43,
   "id": "cc4f5101",
   "metadata": {},
   "outputs": [
    {
     "name": "stdout",
     "output_type": "stream",
     "text": [
      "$5.7 billion\n",
      "$5.25 billion\n",
      "$5 billion\n",
      "$4.76 billion\n",
      "$4.75 billion\n",
      "$4.7 billion\n",
      "$4.6 billion\n",
      "$4.4 billion\n",
      "$4.3 billion\n",
      "$4.21 billion\n",
      "$4.2 billion\n",
      "$4.1 billion\n",
      "$4 billion\n",
      "$4 billion\n",
      "$3.8 billion\n",
      "$3.57 billion\n",
      "$3.55 billion\n",
      "$3.53 billion\n",
      "$3.5 billion\n",
      "$3.47 billion\n",
      "$3.4 billion\n",
      "$3.36 billion\n",
      "$3.3 billion\n",
      "$3.3 billion\n",
      "$3.2 billion\n",
      "$3.2 billion\n",
      "$3.2 billion\n",
      "$3.18 billion\n",
      "$3.1 billion\n",
      "$3.08 billion\n",
      "$3.05 billion\n",
      "$3 billion\n",
      "$2.98 billion\n",
      "$2.95 billion\n",
      "$2.9 billion\n",
      "$2.88 billion\n",
      "2.85 billion\n",
      "$2.8 billion\n",
      "$2.75 billion\n",
      "$2.65 billion\n",
      "$2.6 billion\n",
      "$2.55 billion\n",
      "$2.5 billion\n",
      "$2.5 billion\n",
      "$2.5 billion\n",
      "$2.48 billion\n",
      "$2.45 billion\n",
      "$2.45 billion\n",
      "$2.45 billion\n",
      "$2.35 billion\n"
     ]
    }
   ],
   "source": [
    "values = []\n",
    "value = driver.find_elements(By.XPATH , '//*[@id=\"article-stream-0\"]/div[3]/div/div/div[2]/div[1]/p/a/strong')[:-1]\n",
    "for val in value:\n",
    "    print(val.text)\n",
    "    values.append(val.text)"
   ]
  },
  {
   "cell_type": "code",
   "execution_count": 46,
   "id": "af387a09",
   "metadata": {},
   "outputs": [],
   "source": [
    "all_other_value = driver.find_elements(By.XPATH , '//*[@id=\"article-stream-0\"]/div[3]/div/div/div[2]/div[1]/p/strong')[1:]\n",
    "Five_Year_Change_In_Value = []\n",
    "Owner = []\n",
    "Year_Purchased = []\n",
    "Price_Paid = []\n",
    "for i,vals in enumerate(all_other_value):\n",
    "    if(i%4 == 0):\n",
    "        Five_Year_Change_In_Value.append(vals.text)\n",
    "    elif((i-1)%4 == 0):\n",
    "        Owner.append(vals.text)\n",
    "    elif((i-2)%4 == 0):\n",
    "        Year_Purchased.append(vals.text)\n",
    "    else:\n",
    "        Price_Paid.append(vals.text)"
   ]
  },
  {
   "cell_type": "code",
   "execution_count": 52,
   "id": "9204420f",
   "metadata": {},
   "outputs": [
    {
     "name": "stdout",
     "output_type": "stream",
     "text": [
      "['$150 million', '$8.8 million', '$300 million', 'not applicable', 'not applicable', '$450 million', '$20 million, $268 million', '$172 million', '$500, $150 million', 'not applicable', '$1.4 billion', '$476 million', '$750 million', '$385 million', '$13 million', '$2 billion', '$635 million', '$100', '$750 million', '$380 million', '$185 million', '$700 million', '$700 million', '$16.2 million', '$78 million', '$360 million', '$233 million', '$100 million', '$180,000', '$194 million', '$100', '$2,500', '$600 million', '$600 million', '1.1 billion', '$545 million', '$14 million', '$1.1 billion', '$2 billion', '$3.2 billion', '$72 million', '$2.28 billion', '$25,000', '$2.2 billion', '$100 million', '$70.2 million', '$770 million', '$2.42 billion', '$280 million', '$987 million']\n",
      "50\n"
     ]
    }
   ],
   "source": [
    "print(Price_Paid)\n",
    "print(len(Price_Paid))"
   ]
  },
  {
   "cell_type": "code",
   "execution_count": 51,
   "id": "e74ad25c",
   "metadata": {},
   "outputs": [
    {
     "name": "stdout",
     "output_type": "stream",
     "text": [
      "['1989', '1973', '1997', 'not applicable', 'not applicable', '2010', '1979, 1998', '1994', '1925, 1991', 'not applicable', '2005', '2010', '2010', '2008', '1977', '2012', '2000', '1920', '1999', '2002', '1994', '2009', '1999', '1985', '1984', '2002', '2003', '1993', '1966', '1997', '1921', '1933', '2004', '2005', '2009', '2002', '1972', '2011', '2014', '2019', '1984', '2018', '1960', '2017', '2011', '1985', '2011', '2020', '2000', '2012']\n",
      "50\n"
     ]
    }
   ],
   "source": [
    "print(Year_Purchased)\n",
    "print(len(Year_Purchased))"
   ]
  },
  {
   "cell_type": "code",
   "execution_count": 50,
   "id": "08457262",
   "metadata": {},
   "outputs": [
    {
     "name": "stdout",
     "output_type": "stream",
     "text": [
      "['Jerry Jones', 'Steinbrenner family', 'Madison Square Garden Sports', 'club members', 'club members', 'Joe Lacob, Peter Gruber', 'Jerry Buss Family Trusts, Philip Anschutz', 'Robert Kraft', 'John Mara, Steven Tisch', 'club members', 'Glazer family', 'John Henry, Tom Werner', 'Stanley Kroenke', 'heikh Mansour bin Zayed Al Nahyan', 'Denise DeBartolo York, John York', 'Guggenheim Baseball Management', 'Johnson family', 'McCaskey family', 'Daniel Snyder', 'John Henry, Tom Werner', 'Jeffrey Lurie', 'Ricketts family', 'Janice McNair', 'Jerry Reinsdorf', 'Pat Bowlen Trust', 'Wycliffe Grousbeck, Irving Grousbeck, Robert Epstein, Stephen Pagliuca', 'Roman Abramovich', 'Charles Johnson', 'Mark Davis', 'Paul G. Allen Trust', 'shareholders', 'Daniel Rooney Trust, Arthur Rooney II', 'Stephen Bisciotti', 'Zygmunt Wilf', 'Stephen Ross', 'Arthur Blank', 'James Irsay', 'Stanley Kroenke', 'Steve Ballmer', 'Joseph Tsai', 'Dean Spanos', 'David Tepper', 'Hunt family', 'Tilman Fertitta', 'Qatar Sports Investments', 'Gayle Benson', 'Shahid Khan', 'Steve Cohen', 'Mark Cuban', 'ee and Jimmy Haslam']\n",
      "50\n"
     ]
    }
   ],
   "source": [
    "print(Owner)\n",
    "print(len(Owner))"
   ]
  },
  {
   "cell_type": "code",
   "execution_count": 55,
   "id": "44f2826a",
   "metadata": {},
   "outputs": [],
   "source": [
    "dict_ = {\"Sports Team\" : team , \"Value\" : values , \"Five-Year Change In Value\" :  Five_Year_Change_In_Value \n",
    "        , \"Owner\" : Owner , \"Year Purchased\" : Year_Purchased , \"Price Paid\" : Price_Paid}"
   ]
  },
  {
   "cell_type": "code",
   "execution_count": 56,
   "id": "c2014ff5",
   "metadata": {},
   "outputs": [],
   "source": [
    "import pandas as pd\n",
    "df = pd.DataFrame(dict_)\n",
    "df.to_csv('Most Values Sports Team')"
   ]
  },
  {
   "cell_type": "code",
   "execution_count": null,
   "id": "b21f35ac",
   "metadata": {},
   "outputs": [],
   "source": []
  }
 ],
 "metadata": {
  "kernelspec": {
   "display_name": "Python 3",
   "language": "python",
   "name": "python3"
  },
  "language_info": {
   "codemirror_mode": {
    "name": "ipython",
    "version": 3
   },
   "file_extension": ".py",
   "mimetype": "text/x-python",
   "name": "python",
   "nbconvert_exporter": "python",
   "pygments_lexer": "ipython3",
   "version": "3.8.5"
  }
 },
 "nbformat": 4,
 "nbformat_minor": 5
}
